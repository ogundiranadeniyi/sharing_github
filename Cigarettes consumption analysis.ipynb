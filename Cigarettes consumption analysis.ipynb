{
 "cells": [
  {
   "cell_type": "code",
   "execution_count": 1,
   "id": "3e09c7e0",
   "metadata": {
    "ExecuteTime": {
     "end_time": "2023-07-16T12:41:01.577625Z",
     "start_time": "2023-07-16T12:41:00.177368Z"
    }
   },
   "outputs": [],
   "source": [
    "# Importing python libraries for analysis\n",
    "import pandas as pd\n",
    "import numpy as np"
   ]
  },
  {
   "cell_type": "code",
   "execution_count": 2,
   "id": "6ec9ec22",
   "metadata": {
    "ExecuteTime": {
     "end_time": "2023-07-16T12:41:01.609607Z",
     "start_time": "2023-07-16T12:41:01.581563Z"
    }
   },
   "outputs": [],
   "source": [
    "# Reading dataset to dataframe\n",
    "df = pd.read_csv('CigarettesB.csv')"
   ]
  },
  {
   "cell_type": "code",
   "execution_count": 3,
   "id": "666135ee",
   "metadata": {
    "ExecuteTime": {
     "end_time": "2023-07-16T12:41:01.655540Z",
     "start_time": "2023-07-16T12:41:01.615543Z"
    }
   },
   "outputs": [
    {
     "data": {
      "text/plain": [
       "(46, 4)"
      ]
     },
     "execution_count": 3,
     "metadata": {},
     "output_type": "execute_result"
    }
   ],
   "source": [
    "# Use the shape attribute to see the rows and columns dimension - Axis = 0| = 1\n",
    "df.shape"
   ]
  },
  {
   "cell_type": "code",
   "execution_count": 4,
   "id": "d1fc38d3",
   "metadata": {
    "ExecuteTime": {
     "end_time": "2023-07-16T12:41:01.702498Z",
     "start_time": "2023-07-16T12:41:01.660517Z"
    }
   },
   "outputs": [
    {
     "name": "stdout",
     "output_type": "stream",
     "text": [
      "<class 'pandas.core.frame.DataFrame'>\n",
      "RangeIndex: 46 entries, 0 to 45\n",
      "Data columns (total 4 columns):\n",
      " #   Column      Non-Null Count  Dtype  \n",
      "---  ------      --------------  -----  \n",
      " 0   Unnamed: 0  46 non-null     object \n",
      " 1   packs       46 non-null     float64\n",
      " 2   price       46 non-null     float64\n",
      " 3   income      46 non-null     float64\n",
      "dtypes: float64(3), object(1)\n",
      "memory usage: 1.6+ KB\n"
     ]
    }
   ],
   "source": [
    "#shows the information about the DataFrame\n",
    "df.info() "
   ]
  },
  {
   "cell_type": "code",
   "execution_count": 5,
   "id": "072da48a",
   "metadata": {
    "ExecuteTime": {
     "end_time": "2023-07-16T12:41:01.750487Z",
     "start_time": "2023-07-16T12:41:01.710489Z"
    }
   },
   "outputs": [
    {
     "data": {
      "text/html": [
       "<div>\n",
       "<style scoped>\n",
       "    .dataframe tbody tr th:only-of-type {\n",
       "        vertical-align: middle;\n",
       "    }\n",
       "\n",
       "    .dataframe tbody tr th {\n",
       "        vertical-align: top;\n",
       "    }\n",
       "\n",
       "    .dataframe thead th {\n",
       "        text-align: right;\n",
       "    }\n",
       "</style>\n",
       "<table border=\"1\" class=\"dataframe\">\n",
       "  <thead>\n",
       "    <tr style=\"text-align: right;\">\n",
       "      <th></th>\n",
       "      <th>Unnamed: 0</th>\n",
       "      <th>packs</th>\n",
       "      <th>price</th>\n",
       "      <th>income</th>\n",
       "    </tr>\n",
       "  </thead>\n",
       "  <tbody>\n",
       "    <tr>\n",
       "      <th>0</th>\n",
       "      <td>AL</td>\n",
       "      <td>4.96213</td>\n",
       "      <td>0.20487</td>\n",
       "      <td>4.64039</td>\n",
       "    </tr>\n",
       "    <tr>\n",
       "      <th>1</th>\n",
       "      <td>AZ</td>\n",
       "      <td>4.66312</td>\n",
       "      <td>0.16640</td>\n",
       "      <td>4.68389</td>\n",
       "    </tr>\n",
       "    <tr>\n",
       "      <th>2</th>\n",
       "      <td>AR</td>\n",
       "      <td>5.10709</td>\n",
       "      <td>0.23406</td>\n",
       "      <td>4.59435</td>\n",
       "    </tr>\n",
       "    <tr>\n",
       "      <th>3</th>\n",
       "      <td>CA</td>\n",
       "      <td>4.50449</td>\n",
       "      <td>0.36399</td>\n",
       "      <td>4.88147</td>\n",
       "    </tr>\n",
       "    <tr>\n",
       "      <th>4</th>\n",
       "      <td>CT</td>\n",
       "      <td>4.66983</td>\n",
       "      <td>0.32149</td>\n",
       "      <td>5.09472</td>\n",
       "    </tr>\n",
       "  </tbody>\n",
       "</table>\n",
       "</div>"
      ],
      "text/plain": [
       "  Unnamed: 0    packs    price   income\n",
       "0         AL  4.96213  0.20487  4.64039\n",
       "1         AZ  4.66312  0.16640  4.68389\n",
       "2         AR  5.10709  0.23406  4.59435\n",
       "3         CA  4.50449  0.36399  4.88147\n",
       "4         CT  4.66983  0.32149  5.09472"
      ]
     },
     "execution_count": 5,
     "metadata": {},
     "output_type": "execute_result"
    }
   ],
   "source": [
    "# displaying the first 5 rows of the dataset\n",
    "df.head()"
   ]
  },
  {
   "cell_type": "code",
   "execution_count": 37,
   "id": "ee72f622",
   "metadata": {
    "ExecuteTime": {
     "end_time": "2023-07-16T12:42:21.539478Z",
     "start_time": "2023-07-16T12:42:21.519494Z"
    }
   },
   "outputs": [],
   "source": [
    "#Renaming column 'Unnamed:0' to state\n",
    "df.rename(columns = {'Unnamed: 0':'state'}, inplace = True)"
   ]
  },
  {
   "cell_type": "code",
   "execution_count": 7,
   "id": "315e47a8",
   "metadata": {
    "ExecuteTime": {
     "end_time": "2023-07-16T12:41:01.830421Z",
     "start_time": "2023-07-16T12:41:01.788443Z"
    }
   },
   "outputs": [
    {
     "data": {
      "text/html": [
       "<div>\n",
       "<style scoped>\n",
       "    .dataframe tbody tr th:only-of-type {\n",
       "        vertical-align: middle;\n",
       "    }\n",
       "\n",
       "    .dataframe tbody tr th {\n",
       "        vertical-align: top;\n",
       "    }\n",
       "\n",
       "    .dataframe thead th {\n",
       "        text-align: right;\n",
       "    }\n",
       "</style>\n",
       "<table border=\"1\" class=\"dataframe\">\n",
       "  <thead>\n",
       "    <tr style=\"text-align: right;\">\n",
       "      <th></th>\n",
       "      <th>state</th>\n",
       "      <th>packs</th>\n",
       "      <th>price</th>\n",
       "      <th>income</th>\n",
       "    </tr>\n",
       "  </thead>\n",
       "  <tbody>\n",
       "    <tr>\n",
       "      <th>0</th>\n",
       "      <td>AL</td>\n",
       "      <td>4.96213</td>\n",
       "      <td>0.20487</td>\n",
       "      <td>4.64039</td>\n",
       "    </tr>\n",
       "    <tr>\n",
       "      <th>1</th>\n",
       "      <td>AZ</td>\n",
       "      <td>4.66312</td>\n",
       "      <td>0.16640</td>\n",
       "      <td>4.68389</td>\n",
       "    </tr>\n",
       "    <tr>\n",
       "      <th>2</th>\n",
       "      <td>AR</td>\n",
       "      <td>5.10709</td>\n",
       "      <td>0.23406</td>\n",
       "      <td>4.59435</td>\n",
       "    </tr>\n",
       "    <tr>\n",
       "      <th>3</th>\n",
       "      <td>CA</td>\n",
       "      <td>4.50449</td>\n",
       "      <td>0.36399</td>\n",
       "      <td>4.88147</td>\n",
       "    </tr>\n",
       "    <tr>\n",
       "      <th>4</th>\n",
       "      <td>CT</td>\n",
       "      <td>4.66983</td>\n",
       "      <td>0.32149</td>\n",
       "      <td>5.09472</td>\n",
       "    </tr>\n",
       "  </tbody>\n",
       "</table>\n",
       "</div>"
      ],
      "text/plain": [
       "  state    packs    price   income\n",
       "0    AL  4.96213  0.20487  4.64039\n",
       "1    AZ  4.66312  0.16640  4.68389\n",
       "2    AR  5.10709  0.23406  4.59435\n",
       "3    CA  4.50449  0.36399  4.88147\n",
       "4    CT  4.66983  0.32149  5.09472"
      ]
     },
     "execution_count": 7,
     "metadata": {},
     "output_type": "execute_result"
    }
   ],
   "source": [
    "# displaying the first 5 rows of the dataset\n",
    "df.head()"
   ]
  },
  {
   "cell_type": "code",
   "execution_count": 8,
   "id": "171e3fea",
   "metadata": {
    "ExecuteTime": {
     "end_time": "2023-07-16T12:41:01.860403Z",
     "start_time": "2023-07-16T12:41:01.837416Z"
    }
   },
   "outputs": [
    {
     "data": {
      "text/plain": [
       "state     0\n",
       "packs     0\n",
       "price     0\n",
       "income    0\n",
       "dtype: int64"
      ]
     },
     "execution_count": 8,
     "metadata": {},
     "output_type": "execute_result"
    }
   ],
   "source": [
    "# checking for missing value.\n",
    "# we have no missing value.\n",
    "df.isnull().sum()"
   ]
  },
  {
   "cell_type": "code",
   "execution_count": 9,
   "id": "5094cc4f",
   "metadata": {
    "ExecuteTime": {
     "end_time": "2023-07-16T12:41:01.908376Z",
     "start_time": "2023-07-16T12:41:01.882390Z"
    }
   },
   "outputs": [
    {
     "data": {
      "text/plain": [
       "Index(['state', 'packs', 'price', 'income'], dtype='object')"
      ]
     },
     "execution_count": 9,
     "metadata": {},
     "output_type": "execute_result"
    }
   ],
   "source": [
    "# Using the columns attribute to check column names\n",
    "df.columns "
   ]
  },
  {
   "cell_type": "code",
   "execution_count": 10,
   "id": "43cde6dc",
   "metadata": {
    "ExecuteTime": {
     "end_time": "2023-07-16T12:41:01.939357Z",
     "start_time": "2023-07-16T12:41:01.917370Z"
    }
   },
   "outputs": [
    {
     "data": {
      "text/plain": [
       "array([ 0.20487,  0.1664 ,  0.23406,  0.36399,  0.32149,  0.21929,\n",
       "        0.28946,  0.28733,  0.12826,  0.17541,  0.24806,  0.08992,\n",
       "        0.24081,  0.21642, -0.0326 ,  0.23856,  0.29106,  0.12575,\n",
       "        0.22613,  0.23067,  0.34297,  0.13638,  0.08731,  0.15303,\n",
       "        0.18907,  0.32304,  0.15852,  0.30901,  0.16458,  0.34701,\n",
       "        0.18197,  0.12889,  0.19554,  0.22784,  0.30324,  0.07944,\n",
       "        0.13139,  0.15547,  0.28196,  0.1926 ,  0.18018,  0.11818,\n",
       "        0.35053,  0.12008,  0.22954,  0.10029])"
      ]
     },
     "execution_count": 10,
     "metadata": {},
     "output_type": "execute_result"
    }
   ],
   "source": [
    "# checking the unique status of column 'price'\n",
    "df.price.unique()"
   ]
  },
  {
   "cell_type": "code",
   "execution_count": 11,
   "id": "9d6ceeaa",
   "metadata": {
    "ExecuteTime": {
     "end_time": "2023-07-16T12:41:01.971340Z",
     "start_time": "2023-07-16T12:41:01.948354Z"
    }
   },
   "outputs": [],
   "source": [
    "#Removing - sign from column 'price'\n",
    "df[\"price\"] = df[\"price\"].abs()"
   ]
  },
  {
   "cell_type": "code",
   "execution_count": 12,
   "id": "fbe4a9b3",
   "metadata": {
    "ExecuteTime": {
     "end_time": "2023-07-16T12:41:02.003322Z",
     "start_time": "2023-07-16T12:41:01.977335Z"
    }
   },
   "outputs": [
    {
     "data": {
      "text/plain": [
       "array([0.20487, 0.1664 , 0.23406, 0.36399, 0.32149, 0.21929, 0.28946,\n",
       "       0.28733, 0.12826, 0.17541, 0.24806, 0.08992, 0.24081, 0.21642,\n",
       "       0.0326 , 0.23856, 0.29106, 0.12575, 0.22613, 0.23067, 0.34297,\n",
       "       0.13638, 0.08731, 0.15303, 0.18907, 0.32304, 0.15852, 0.30901,\n",
       "       0.16458, 0.34701, 0.18197, 0.12889, 0.19554, 0.22784, 0.30324,\n",
       "       0.07944, 0.13139, 0.15547, 0.28196, 0.1926 , 0.18018, 0.11818,\n",
       "       0.35053, 0.12008, 0.22954, 0.10029])"
      ]
     },
     "execution_count": 12,
     "metadata": {},
     "output_type": "execute_result"
    }
   ],
   "source": [
    "df.price.unique()"
   ]
  },
  {
   "cell_type": "code",
   "execution_count": 13,
   "id": "c697b1ba",
   "metadata": {
    "ExecuteTime": {
     "end_time": "2023-07-16T12:41:02.019312Z",
     "start_time": "2023-07-16T12:41:02.008318Z"
    }
   },
   "outputs": [],
   "source": [
    "#creating Total price column\n",
    "df['Total price'] = (df['packs'] * df['price'])"
   ]
  },
  {
   "cell_type": "code",
   "execution_count": 38,
   "id": "863c6754",
   "metadata": {
    "ExecuteTime": {
     "end_time": "2023-07-16T12:45:49.239819Z",
     "start_time": "2023-07-16T12:45:49.216832Z"
    }
   },
   "outputs": [
    {
     "data": {
      "text/plain": [
       "Index(['state', 'packs', 'price', 'income', 'Total price'], dtype='object')"
      ]
     },
     "execution_count": 38,
     "metadata": {},
     "output_type": "execute_result"
    }
   ],
   "source": [
    "# Using the columns attribute to check column names after new added column\n",
    "df.columns"
   ]
  },
  {
   "cell_type": "code",
   "execution_count": 14,
   "id": "70a72ba7",
   "metadata": {
    "ExecuteTime": {
     "end_time": "2023-07-16T12:41:02.083275Z",
     "start_time": "2023-07-16T12:41:02.025308Z"
    }
   },
   "outputs": [],
   "source": [
    "#Replacing the abbreviations with full name using dict method in column 'state'\n",
    "df['state'] = df['state'].replace({'AL':'Alabama','AK':'Alaska', 'DC':'Washingston DC',\n",
    "'AZ':'Arizona',\n",
    "'AR':'Arkansas',\n",
    "'CA':'California',\n",
    "'CO':'Colorado',\n",
    "'CT':'Connecticut',\n",
    "'DE':'Delaware',\n",
    "'FL':'Florida',\n",
    "'GA':'Georgia',\n",
    "'HI':'Hawaii',\n",
    "'ID':'Idaho',\n",
    "'IL':'Illinois',\n",
    "'IN':'Indiana',\n",
    "'IA':'Iowa',\n",
    "'KS':'Kansas',\n",
    "'KY':'Kentucky',\n",
    "'LA':'Louisiana',\n",
    "'ME':'Maine',\n",
    "'MD':'Maryland',\n",
    "'MA':'Massachusetts',\n",
    "'MI':'Michigan',\n",
    "'MN':'Minnesota',\n",
    "'MS':'Mississippi',\n",
    "'MO':'Missouri',\n",
    "'MT':'Montana',\n",
    "'NE':'Nebraska',\n",
    "'NV':'Nevada',\n",
    "'NH':'New Hampshire',\n",
    "'NJ':'New Jersey',\n",
    "'NM':'New Mexico',\n",
    "'NY':'New York',\n",
    "'NC':'North Carolina',\n",
    "'ND':'North Dakota',\n",
    "'OH':'Ohio',\n",
    "'OK':'Oklahoma',\n",
    "'OR':'Oregon',\n",
    "'PA':'Pennsylvania',\n",
    "'RI':'Rhode Island',\n",
    "'SC':'South Carolina',\n",
    "'SD':'South Dakota',\n",
    "'TN':'Tennessee',\n",
    "'TX':'Texas',\n",
    "'UT':'Utah',\n",
    "'VT':'Vermont',\n",
    "'VA':'Virginia',\n",
    "'WA':'Washington',\n",
    "'WV':'West Virginia',\n",
    "'WI':'Wisconsin',\n",
    "'WY':'Wyoming'}, regex=True )"
   ]
  },
  {
   "cell_type": "code",
   "execution_count": 15,
   "id": "0ef2f30f",
   "metadata": {
    "ExecuteTime": {
     "end_time": "2023-07-16T12:41:02.131247Z",
     "start_time": "2023-07-16T12:41:02.090271Z"
    }
   },
   "outputs": [
    {
     "data": {
      "text/html": [
       "<div>\n",
       "<style scoped>\n",
       "    .dataframe tbody tr th:only-of-type {\n",
       "        vertical-align: middle;\n",
       "    }\n",
       "\n",
       "    .dataframe tbody tr th {\n",
       "        vertical-align: top;\n",
       "    }\n",
       "\n",
       "    .dataframe thead th {\n",
       "        text-align: right;\n",
       "    }\n",
       "</style>\n",
       "<table border=\"1\" class=\"dataframe\">\n",
       "  <thead>\n",
       "    <tr style=\"text-align: right;\">\n",
       "      <th></th>\n",
       "      <th>state</th>\n",
       "      <th>packs</th>\n",
       "      <th>price</th>\n",
       "      <th>income</th>\n",
       "      <th>Total price</th>\n",
       "    </tr>\n",
       "  </thead>\n",
       "  <tbody>\n",
       "    <tr>\n",
       "      <th>0</th>\n",
       "      <td>Alabama</td>\n",
       "      <td>4.96213</td>\n",
       "      <td>0.20487</td>\n",
       "      <td>4.64039</td>\n",
       "      <td>1.016592</td>\n",
       "    </tr>\n",
       "    <tr>\n",
       "      <th>1</th>\n",
       "      <td>Arizona</td>\n",
       "      <td>4.66312</td>\n",
       "      <td>0.16640</td>\n",
       "      <td>4.68389</td>\n",
       "      <td>0.775943</td>\n",
       "    </tr>\n",
       "    <tr>\n",
       "      <th>2</th>\n",
       "      <td>Arkansas</td>\n",
       "      <td>5.10709</td>\n",
       "      <td>0.23406</td>\n",
       "      <td>4.59435</td>\n",
       "      <td>1.195365</td>\n",
       "    </tr>\n",
       "    <tr>\n",
       "      <th>3</th>\n",
       "      <td>California</td>\n",
       "      <td>4.50449</td>\n",
       "      <td>0.36399</td>\n",
       "      <td>4.88147</td>\n",
       "      <td>1.639589</td>\n",
       "    </tr>\n",
       "    <tr>\n",
       "      <th>4</th>\n",
       "      <td>Connecticut</td>\n",
       "      <td>4.66983</td>\n",
       "      <td>0.32149</td>\n",
       "      <td>5.09472</td>\n",
       "      <td>1.501304</td>\n",
       "    </tr>\n",
       "    <tr>\n",
       "      <th>5</th>\n",
       "      <td>Delaware</td>\n",
       "      <td>5.04705</td>\n",
       "      <td>0.21929</td>\n",
       "      <td>4.87087</td>\n",
       "      <td>1.106768</td>\n",
       "    </tr>\n",
       "    <tr>\n",
       "      <th>6</th>\n",
       "      <td>Washingston DC</td>\n",
       "      <td>4.65637</td>\n",
       "      <td>0.28946</td>\n",
       "      <td>5.05960</td>\n",
       "      <td>1.347833</td>\n",
       "    </tr>\n",
       "    <tr>\n",
       "      <th>7</th>\n",
       "      <td>Florida</td>\n",
       "      <td>4.80081</td>\n",
       "      <td>0.28733</td>\n",
       "      <td>4.81155</td>\n",
       "      <td>1.379417</td>\n",
       "    </tr>\n",
       "    <tr>\n",
       "      <th>8</th>\n",
       "      <td>Georgia</td>\n",
       "      <td>4.97974</td>\n",
       "      <td>0.12826</td>\n",
       "      <td>4.73299</td>\n",
       "      <td>0.638701</td>\n",
       "    </tr>\n",
       "    <tr>\n",
       "      <th>9</th>\n",
       "      <td>Idaho</td>\n",
       "      <td>4.74902</td>\n",
       "      <td>0.17541</td>\n",
       "      <td>4.64307</td>\n",
       "      <td>0.833026</td>\n",
       "    </tr>\n",
       "  </tbody>\n",
       "</table>\n",
       "</div>"
      ],
      "text/plain": [
       "            state    packs    price   income  Total price\n",
       "0         Alabama  4.96213  0.20487  4.64039     1.016592\n",
       "1         Arizona  4.66312  0.16640  4.68389     0.775943\n",
       "2        Arkansas  5.10709  0.23406  4.59435     1.195365\n",
       "3      California  4.50449  0.36399  4.88147     1.639589\n",
       "4     Connecticut  4.66983  0.32149  5.09472     1.501304\n",
       "5        Delaware  5.04705  0.21929  4.87087     1.106768\n",
       "6  Washingston DC  4.65637  0.28946  5.05960     1.347833\n",
       "7         Florida  4.80081  0.28733  4.81155     1.379417\n",
       "8         Georgia  4.97974  0.12826  4.73299     0.638701\n",
       "9           Idaho  4.74902  0.17541  4.64307     0.833026"
      ]
     },
     "execution_count": 15,
     "metadata": {},
     "output_type": "execute_result"
    }
   ],
   "source": [
    "# displaying first 10 rows of the dataset\n",
    "df.head(10)"
   ]
  },
  {
   "cell_type": "code",
   "execution_count": 16,
   "id": "03511fb8",
   "metadata": {
    "ExecuteTime": {
     "end_time": "2023-07-16T12:41:02.195211Z",
     "start_time": "2023-07-16T12:41:02.138243Z"
    }
   },
   "outputs": [
    {
     "data": {
      "text/html": [
       "<div>\n",
       "<style scoped>\n",
       "    .dataframe tbody tr th:only-of-type {\n",
       "        vertical-align: middle;\n",
       "    }\n",
       "\n",
       "    .dataframe tbody tr th {\n",
       "        vertical-align: top;\n",
       "    }\n",
       "\n",
       "    .dataframe thead th {\n",
       "        text-align: right;\n",
       "    }\n",
       "</style>\n",
       "<table border=\"1\" class=\"dataframe\">\n",
       "  <thead>\n",
       "    <tr style=\"text-align: right;\">\n",
       "      <th></th>\n",
       "      <th>packs</th>\n",
       "      <th>price</th>\n",
       "      <th>income</th>\n",
       "      <th>Total price</th>\n",
       "    </tr>\n",
       "  </thead>\n",
       "  <tbody>\n",
       "    <tr>\n",
       "      <th>count</th>\n",
       "      <td>46.000000</td>\n",
       "      <td>46.000000</td>\n",
       "      <td>46.000000</td>\n",
       "      <td>46.000000</td>\n",
       "    </tr>\n",
       "    <tr>\n",
       "      <th>mean</th>\n",
       "      <td>4.847844</td>\n",
       "      <td>0.206926</td>\n",
       "      <td>4.775455</td>\n",
       "      <td>0.995182</td>\n",
       "    </tr>\n",
       "    <tr>\n",
       "      <th>std</th>\n",
       "      <td>0.191458</td>\n",
       "      <td>0.082693</td>\n",
       "      <td>0.142261</td>\n",
       "      <td>0.384098</td>\n",
       "    </tr>\n",
       "    <tr>\n",
       "      <th>min</th>\n",
       "      <td>4.408590</td>\n",
       "      <td>0.032600</td>\n",
       "      <td>4.529380</td>\n",
       "      <td>0.175357</td>\n",
       "    </tr>\n",
       "    <tr>\n",
       "      <th>25%</th>\n",
       "      <td>4.711547</td>\n",
       "      <td>0.140543</td>\n",
       "      <td>4.679075</td>\n",
       "      <td>0.686355</td>\n",
       "    </tr>\n",
       "    <tr>\n",
       "      <th>50%</th>\n",
       "      <td>4.814950</td>\n",
       "      <td>0.200205</td>\n",
       "      <td>4.758505</td>\n",
       "      <td>0.970474</td>\n",
       "    </tr>\n",
       "    <tr>\n",
       "      <th>75%</th>\n",
       "      <td>4.984450</td>\n",
       "      <td>0.273485</td>\n",
       "      <td>4.852850</td>\n",
       "      <td>1.283019</td>\n",
       "    </tr>\n",
       "    <tr>\n",
       "      <th>max</th>\n",
       "      <td>5.379060</td>\n",
       "      <td>0.363990</td>\n",
       "      <td>5.102680</td>\n",
       "      <td>1.639589</td>\n",
       "    </tr>\n",
       "  </tbody>\n",
       "</table>\n",
       "</div>"
      ],
      "text/plain": [
       "           packs      price     income  Total price\n",
       "count  46.000000  46.000000  46.000000    46.000000\n",
       "mean    4.847844   0.206926   4.775455     0.995182\n",
       "std     0.191458   0.082693   0.142261     0.384098\n",
       "min     4.408590   0.032600   4.529380     0.175357\n",
       "25%     4.711547   0.140543   4.679075     0.686355\n",
       "50%     4.814950   0.200205   4.758505     0.970474\n",
       "75%     4.984450   0.273485   4.852850     1.283019\n",
       "max     5.379060   0.363990   5.102680     1.639589"
      ]
     },
     "execution_count": 16,
     "metadata": {},
     "output_type": "execute_result"
    }
   ],
   "source": [
    "# Displaying the descriptive statistics of the dataset using describe method\n",
    "df.describe()"
   ]
  },
  {
   "cell_type": "code",
   "execution_count": 17,
   "id": "2fa0c883",
   "metadata": {
    "ExecuteTime": {
     "end_time": "2023-07-16T12:41:02.227192Z",
     "start_time": "2023-07-16T12:41:02.202209Z"
    }
   },
   "outputs": [],
   "source": [
    "#sorting and filtering top 10 states disposable income. \n",
    "income_top10 = df.sort_values(by=['income'],ascending=False).head(10)"
   ]
  },
  {
   "cell_type": "code",
   "execution_count": 18,
   "id": "26e9299f",
   "metadata": {
    "ExecuteTime": {
     "end_time": "2023-07-16T12:41:02.273167Z",
     "start_time": "2023-07-16T12:41:02.234188Z"
    }
   },
   "outputs": [
    {
     "data": {
      "text/html": [
       "<div>\n",
       "<style scoped>\n",
       "    .dataframe tbody tr th:only-of-type {\n",
       "        vertical-align: middle;\n",
       "    }\n",
       "\n",
       "    .dataframe tbody tr th {\n",
       "        vertical-align: top;\n",
       "    }\n",
       "\n",
       "    .dataframe thead th {\n",
       "        text-align: right;\n",
       "    }\n",
       "</style>\n",
       "<table border=\"1\" class=\"dataframe\">\n",
       "  <thead>\n",
       "    <tr style=\"text-align: right;\">\n",
       "      <th></th>\n",
       "      <th>state</th>\n",
       "      <th>packs</th>\n",
       "      <th>price</th>\n",
       "      <th>income</th>\n",
       "      <th>Total price</th>\n",
       "    </tr>\n",
       "  </thead>\n",
       "  <tbody>\n",
       "    <tr>\n",
       "      <th>27</th>\n",
       "      <td>New Jersey</td>\n",
       "      <td>4.70633</td>\n",
       "      <td>0.30901</td>\n",
       "      <td>5.10268</td>\n",
       "      <td>1.454303</td>\n",
       "    </tr>\n",
       "    <tr>\n",
       "      <th>4</th>\n",
       "      <td>Connecticut</td>\n",
       "      <td>4.66983</td>\n",
       "      <td>0.32149</td>\n",
       "      <td>5.09472</td>\n",
       "      <td>1.501304</td>\n",
       "    </tr>\n",
       "    <tr>\n",
       "      <th>6</th>\n",
       "      <td>Washingston DC</td>\n",
       "      <td>4.65637</td>\n",
       "      <td>0.28946</td>\n",
       "      <td>5.05960</td>\n",
       "      <td>1.347833</td>\n",
       "    </tr>\n",
       "    <tr>\n",
       "      <th>26</th>\n",
       "      <td>New Hampshire</td>\n",
       "      <td>5.10990</td>\n",
       "      <td>0.15852</td>\n",
       "      <td>5.00319</td>\n",
       "      <td>0.810021</td>\n",
       "    </tr>\n",
       "    <tr>\n",
       "      <th>18</th>\n",
       "      <td>Massachusetts</td>\n",
       "      <td>4.73877</td>\n",
       "      <td>0.22613</td>\n",
       "      <td>4.99998</td>\n",
       "      <td>1.071578</td>\n",
       "    </tr>\n",
       "    <tr>\n",
       "      <th>29</th>\n",
       "      <td>New York</td>\n",
       "      <td>4.66496</td>\n",
       "      <td>0.34701</td>\n",
       "      <td>4.96075</td>\n",
       "      <td>1.618788</td>\n",
       "    </tr>\n",
       "    <tr>\n",
       "      <th>17</th>\n",
       "      <td>Maryland</td>\n",
       "      <td>4.77751</td>\n",
       "      <td>0.12575</td>\n",
       "      <td>4.94692</td>\n",
       "      <td>0.600772</td>\n",
       "    </tr>\n",
       "    <tr>\n",
       "      <th>10</th>\n",
       "      <td>Illinois</td>\n",
       "      <td>4.81445</td>\n",
       "      <td>0.24806</td>\n",
       "      <td>4.90387</td>\n",
       "      <td>1.194272</td>\n",
       "    </tr>\n",
       "    <tr>\n",
       "      <th>3</th>\n",
       "      <td>California</td>\n",
       "      <td>4.50449</td>\n",
       "      <td>0.36399</td>\n",
       "      <td>4.88147</td>\n",
       "      <td>1.639589</td>\n",
       "    </tr>\n",
       "    <tr>\n",
       "      <th>5</th>\n",
       "      <td>Delaware</td>\n",
       "      <td>5.04705</td>\n",
       "      <td>0.21929</td>\n",
       "      <td>4.87087</td>\n",
       "      <td>1.106768</td>\n",
       "    </tr>\n",
       "  </tbody>\n",
       "</table>\n",
       "</div>"
      ],
      "text/plain": [
       "             state    packs    price   income  Total price\n",
       "27      New Jersey  4.70633  0.30901  5.10268     1.454303\n",
       "4      Connecticut  4.66983  0.32149  5.09472     1.501304\n",
       "6   Washingston DC  4.65637  0.28946  5.05960     1.347833\n",
       "26   New Hampshire  5.10990  0.15852  5.00319     0.810021\n",
       "18   Massachusetts  4.73877  0.22613  4.99998     1.071578\n",
       "29        New York  4.66496  0.34701  4.96075     1.618788\n",
       "17        Maryland  4.77751  0.12575  4.94692     0.600772\n",
       "10        Illinois  4.81445  0.24806  4.90387     1.194272\n",
       "3       California  4.50449  0.36399  4.88147     1.639589\n",
       "5         Delaware  5.04705  0.21929  4.87087     1.106768"
      ]
     },
     "execution_count": 18,
     "metadata": {},
     "output_type": "execute_result"
    }
   ],
   "source": [
    "income_top10"
   ]
  },
  {
   "cell_type": "code",
   "execution_count": 19,
   "id": "63bceaef",
   "metadata": {
    "ExecuteTime": {
     "end_time": "2023-07-16T12:41:06.418856Z",
     "start_time": "2023-07-16T12:41:02.280161Z"
    }
   },
   "outputs": [],
   "source": [
    "# Importing visualization libraries\n",
    "import seaborn as sns  \n",
    "import matplotlib.pyplot as plt "
   ]
  },
  {
   "cell_type": "code",
   "execution_count": 20,
   "id": "8dd78608",
   "metadata": {
    "ExecuteTime": {
     "end_time": "2023-07-16T12:41:07.062419Z",
     "start_time": "2023-07-16T12:41:06.427786Z"
    }
   },
   "outputs": [
    {
     "data": {
      "image/png": "[encoded data removed]",
      "text/plain": [
       "<Figure size 1000x600 with 1 Axes>"
      ]
     },
     "metadata": {},
     "output_type": "display_data"
    }
   ],
   "source": [
    "# Create a barplot to visualize income\n",
    "plt.figure(figsize=(10, 6))\n",
    "ax = sns.barplot(x=income_top10['state'], y=income_top10['income'])\n",
    "\n",
    "# Add a title\n",
    "plt.title(\"Real disposable income (per capita) in each state\")\n",
    "\n",
    "# Add labels to the x-axis\n",
    "plt.xlabel(\"State\")\n",
    "\n",
    "# Add labels to the y-axis\n",
    "plt.ylabel(\"Income\")\n",
    "\n",
    "# Show the plot\n",
    "plt.show()"
   ]
  },
  {
   "cell_type": "code",
   "execution_count": 21,
   "id": "2b42c719",
   "metadata": {
    "ExecuteTime": {
     "end_time": "2023-07-16T12:41:07.094426Z",
     "start_time": "2023-07-16T12:41:07.067417Z"
    }
   },
   "outputs": [],
   "source": [
    "#sorting and filtering top 10 states Total price.\n",
    "TotalPrice_top10 = df.sort_values(by=['Total price'],ascending=False).head(10)"
   ]
  },
  {
   "cell_type": "code",
   "execution_count": 22,
   "id": "b4ee3ffa",
   "metadata": {
    "ExecuteTime": {
     "end_time": "2023-07-16T12:41:07.157386Z",
     "start_time": "2023-07-16T12:41:07.106394Z"
    }
   },
   "outputs": [
    {
     "data": {
      "text/html": [
       "<div>\n",
       "<style scoped>\n",
       "    .dataframe tbody tr th:only-of-type {\n",
       "        vertical-align: middle;\n",
       "    }\n",
       "\n",
       "    .dataframe tbody tr th {\n",
       "        vertical-align: top;\n",
       "    }\n",
       "\n",
       "    .dataframe thead th {\n",
       "        text-align: right;\n",
       "    }\n",
       "</style>\n",
       "<table border=\"1\" class=\"dataframe\">\n",
       "  <thead>\n",
       "    <tr style=\"text-align: right;\">\n",
       "      <th></th>\n",
       "      <th>state</th>\n",
       "      <th>packs</th>\n",
       "      <th>price</th>\n",
       "      <th>income</th>\n",
       "      <th>Total price</th>\n",
       "    </tr>\n",
       "  </thead>\n",
       "  <tbody>\n",
       "    <tr>\n",
       "      <th>3</th>\n",
       "      <td>California</td>\n",
       "      <td>4.50449</td>\n",
       "      <td>0.36399</td>\n",
       "      <td>4.88147</td>\n",
       "      <td>1.639589</td>\n",
       "    </tr>\n",
       "    <tr>\n",
       "      <th>42</th>\n",
       "      <td>Washington</td>\n",
       "      <td>4.66134</td>\n",
       "      <td>0.35053</td>\n",
       "      <td>4.85645</td>\n",
       "      <td>1.633940</td>\n",
       "    </tr>\n",
       "    <tr>\n",
       "      <th>29</th>\n",
       "      <td>New York</td>\n",
       "      <td>4.66496</td>\n",
       "      <td>0.34701</td>\n",
       "      <td>4.96075</td>\n",
       "      <td>1.618788</td>\n",
       "    </tr>\n",
       "    <tr>\n",
       "      <th>20</th>\n",
       "      <td>Minnesota</td>\n",
       "      <td>4.69589</td>\n",
       "      <td>0.34297</td>\n",
       "      <td>4.81207</td>\n",
       "      <td>1.610549</td>\n",
       "    </tr>\n",
       "    <tr>\n",
       "      <th>25</th>\n",
       "      <td>Nevada</td>\n",
       "      <td>4.96642</td>\n",
       "      <td>0.32304</td>\n",
       "      <td>4.83816</td>\n",
       "      <td>1.604352</td>\n",
       "    </tr>\n",
       "    <tr>\n",
       "      <th>4</th>\n",
       "      <td>Connecticut</td>\n",
       "      <td>4.66983</td>\n",
       "      <td>0.32149</td>\n",
       "      <td>5.09472</td>\n",
       "      <td>1.501304</td>\n",
       "    </tr>\n",
       "    <tr>\n",
       "      <th>34</th>\n",
       "      <td>Rhode Island</td>\n",
       "      <td>4.84693</td>\n",
       "      <td>0.30324</td>\n",
       "      <td>4.84670</td>\n",
       "      <td>1.469783</td>\n",
       "    </tr>\n",
       "    <tr>\n",
       "      <th>27</th>\n",
       "      <td>New Jersey</td>\n",
       "      <td>4.70633</td>\n",
       "      <td>0.30901</td>\n",
       "      <td>5.10268</td>\n",
       "      <td>1.454303</td>\n",
       "    </tr>\n",
       "    <tr>\n",
       "      <th>16</th>\n",
       "      <td>Maine</td>\n",
       "      <td>4.98722</td>\n",
       "      <td>0.29106</td>\n",
       "      <td>4.75501</td>\n",
       "      <td>1.451580</td>\n",
       "    </tr>\n",
       "    <tr>\n",
       "      <th>7</th>\n",
       "      <td>Florida</td>\n",
       "      <td>4.80081</td>\n",
       "      <td>0.28733</td>\n",
       "      <td>4.81155</td>\n",
       "      <td>1.379417</td>\n",
       "    </tr>\n",
       "  </tbody>\n",
       "</table>\n",
       "</div>"
      ],
      "text/plain": [
       "           state    packs    price   income  Total price\n",
       "3     California  4.50449  0.36399  4.88147     1.639589\n",
       "42    Washington  4.66134  0.35053  4.85645     1.633940\n",
       "29      New York  4.66496  0.34701  4.96075     1.618788\n",
       "20     Minnesota  4.69589  0.34297  4.81207     1.610549\n",
       "25        Nevada  4.96642  0.32304  4.83816     1.604352\n",
       "4    Connecticut  4.66983  0.32149  5.09472     1.501304\n",
       "34  Rhode Island  4.84693  0.30324  4.84670     1.469783\n",
       "27    New Jersey  4.70633  0.30901  5.10268     1.454303\n",
       "16         Maine  4.98722  0.29106  4.75501     1.451580\n",
       "7        Florida  4.80081  0.28733  4.81155     1.379417"
      ]
     },
     "execution_count": 22,
     "metadata": {},
     "output_type": "execute_result"
    }
   ],
   "source": [
    "TotalPrice_top10"
   ]
  },
  {
   "cell_type": "code",
   "execution_count": 23,
   "id": "825e655b",
   "metadata": {
    "ExecuteTime": {
     "end_time": "2023-07-16T12:41:07.553138Z",
     "start_time": "2023-07-16T12:41:07.162363Z"
    }
   },
   "outputs": [
    {
     "data": {
      "image/png": "[encoded data removed]",
      "text/plain": [
       "<Figure size 1000x600 with 1 Axes>"
      ]
     },
     "metadata": {},
     "output_type": "display_data"
    }
   ],
   "source": [
    "# Create a barplot to visualize Total price\n",
    "plt.figure(figsize=(10, 6))\n",
    "ax = sns.barplot(x=TotalPrice_top10['state'], y=TotalPrice_top10['Total price'])\n",
    "\n",
    "# Add a title\n",
    "plt.title(\"State Total Prices\")\n",
    "\n",
    "# Add labels to the x-axis\n",
    "plt.xlabel(\"State\")\n",
    "\n",
    "# Add labels to the y-axis\n",
    "plt.ylabel(\"Price\")\n",
    "\n",
    "# Show the plot\n",
    "plt.show()"
   ]
  },
  {
   "cell_type": "code",
   "execution_count": 24,
   "id": "7f594349",
   "metadata": {
    "ExecuteTime": {
     "end_time": "2023-07-16T12:41:07.569129Z",
     "start_time": "2023-07-16T12:41:07.557136Z"
    }
   },
   "outputs": [],
   "source": [
    "#sorting and filtering top 10 states price.\n",
    "price_top10 = df.sort_values(by=['price'],ascending=False).head(10)"
   ]
  },
  {
   "cell_type": "code",
   "execution_count": 25,
   "id": "cc62b753",
   "metadata": {
    "ExecuteTime": {
     "end_time": "2023-07-16T12:41:07.631094Z",
     "start_time": "2023-07-16T12:41:07.575127Z"
    }
   },
   "outputs": [
    {
     "data": {
      "text/html": [
       "<div>\n",
       "<style scoped>\n",
       "    .dataframe tbody tr th:only-of-type {\n",
       "        vertical-align: middle;\n",
       "    }\n",
       "\n",
       "    .dataframe tbody tr th {\n",
       "        vertical-align: top;\n",
       "    }\n",
       "\n",
       "    .dataframe thead th {\n",
       "        text-align: right;\n",
       "    }\n",
       "</style>\n",
       "<table border=\"1\" class=\"dataframe\">\n",
       "  <thead>\n",
       "    <tr style=\"text-align: right;\">\n",
       "      <th></th>\n",
       "      <th>state</th>\n",
       "      <th>packs</th>\n",
       "      <th>price</th>\n",
       "      <th>income</th>\n",
       "      <th>Total price</th>\n",
       "    </tr>\n",
       "  </thead>\n",
       "  <tbody>\n",
       "    <tr>\n",
       "      <th>3</th>\n",
       "      <td>California</td>\n",
       "      <td>4.50449</td>\n",
       "      <td>0.36399</td>\n",
       "      <td>4.88147</td>\n",
       "      <td>1.639589</td>\n",
       "    </tr>\n",
       "    <tr>\n",
       "      <th>42</th>\n",
       "      <td>Washington</td>\n",
       "      <td>4.66134</td>\n",
       "      <td>0.35053</td>\n",
       "      <td>4.85645</td>\n",
       "      <td>1.633940</td>\n",
       "    </tr>\n",
       "    <tr>\n",
       "      <th>29</th>\n",
       "      <td>New York</td>\n",
       "      <td>4.66496</td>\n",
       "      <td>0.34701</td>\n",
       "      <td>4.96075</td>\n",
       "      <td>1.618788</td>\n",
       "    </tr>\n",
       "    <tr>\n",
       "      <th>20</th>\n",
       "      <td>Minnesota</td>\n",
       "      <td>4.69589</td>\n",
       "      <td>0.34297</td>\n",
       "      <td>4.81207</td>\n",
       "      <td>1.610549</td>\n",
       "    </tr>\n",
       "    <tr>\n",
       "      <th>25</th>\n",
       "      <td>Nevada</td>\n",
       "      <td>4.96642</td>\n",
       "      <td>0.32304</td>\n",
       "      <td>4.83816</td>\n",
       "      <td>1.604352</td>\n",
       "    </tr>\n",
       "    <tr>\n",
       "      <th>4</th>\n",
       "      <td>Connecticut</td>\n",
       "      <td>4.66983</td>\n",
       "      <td>0.32149</td>\n",
       "      <td>5.09472</td>\n",
       "      <td>1.501304</td>\n",
       "    </tr>\n",
       "    <tr>\n",
       "      <th>27</th>\n",
       "      <td>New Jersey</td>\n",
       "      <td>4.70633</td>\n",
       "      <td>0.30901</td>\n",
       "      <td>5.10268</td>\n",
       "      <td>1.454303</td>\n",
       "    </tr>\n",
       "    <tr>\n",
       "      <th>34</th>\n",
       "      <td>Rhode Island</td>\n",
       "      <td>4.84693</td>\n",
       "      <td>0.30324</td>\n",
       "      <td>4.84670</td>\n",
       "      <td>1.469783</td>\n",
       "    </tr>\n",
       "    <tr>\n",
       "      <th>16</th>\n",
       "      <td>Maine</td>\n",
       "      <td>4.98722</td>\n",
       "      <td>0.29106</td>\n",
       "      <td>4.75501</td>\n",
       "      <td>1.451580</td>\n",
       "    </tr>\n",
       "    <tr>\n",
       "      <th>6</th>\n",
       "      <td>Washingston DC</td>\n",
       "      <td>4.65637</td>\n",
       "      <td>0.28946</td>\n",
       "      <td>5.05960</td>\n",
       "      <td>1.347833</td>\n",
       "    </tr>\n",
       "  </tbody>\n",
       "</table>\n",
       "</div>"
      ],
      "text/plain": [
       "             state    packs    price   income  Total price\n",
       "3       California  4.50449  0.36399  4.88147     1.639589\n",
       "42      Washington  4.66134  0.35053  4.85645     1.633940\n",
       "29        New York  4.66496  0.34701  4.96075     1.618788\n",
       "20       Minnesota  4.69589  0.34297  4.81207     1.610549\n",
       "25          Nevada  4.96642  0.32304  4.83816     1.604352\n",
       "4      Connecticut  4.66983  0.32149  5.09472     1.501304\n",
       "27      New Jersey  4.70633  0.30901  5.10268     1.454303\n",
       "34    Rhode Island  4.84693  0.30324  4.84670     1.469783\n",
       "16           Maine  4.98722  0.29106  4.75501     1.451580\n",
       "6   Washingston DC  4.65637  0.28946  5.05960     1.347833"
      ]
     },
     "execution_count": 25,
     "metadata": {},
     "output_type": "execute_result"
    }
   ],
   "source": [
    "price_top10"
   ]
  },
  {
   "cell_type": "code",
   "execution_count": 26,
   "id": "695a7eab",
   "metadata": {
    "ExecuteTime": {
     "end_time": "2023-07-16T12:41:08.135805Z",
     "start_time": "2023-07-16T12:41:07.648084Z"
    }
   },
   "outputs": [
    {
     "data": {
      "image/png": "[encoded data removed]",
      "text/plain": [
       "<Figure size 1000x600 with 1 Axes>"
      ]
     },
     "metadata": {},
     "output_type": "display_data"
    }
   ],
   "source": [
    "# Create a barplot to visualize price\n",
    "plt.figure(figsize=(10, 6))\n",
    "ax = sns.barplot(x=price_top10['state'], y=price_top10['price'])\n",
    "\n",
    "# Add a title\n",
    "plt.title(\"Real price of cigarette in each state\")\n",
    "\n",
    "# Add labels to the x-axis\n",
    "plt.xlabel(\"State\")\n",
    "\n",
    "# Add labels to the y-axis\n",
    "plt.ylabel(\"price\")\n",
    "\n",
    "# Show the plot\n",
    "plt.show()"
   ]
  },
  {
   "cell_type": "code",
   "execution_count": 27,
   "id": "3a115c6e",
   "metadata": {
    "ExecuteTime": {
     "end_time": "2023-07-16T12:41:08.181804Z",
     "start_time": "2023-07-16T12:41:08.160795Z"
    }
   },
   "outputs": [],
   "source": [
    "#sorting and filtering top 10 states packs.\n",
    "consumption_top10 = df.sort_values(by=['packs'],ascending=False).head(10)"
   ]
  },
  {
   "cell_type": "code",
   "execution_count": 28,
   "id": "6d8c1703",
   "metadata": {
    "ExecuteTime": {
     "end_time": "2023-07-16T12:41:08.229753Z",
     "start_time": "2023-07-16T12:41:08.188778Z"
    }
   },
   "outputs": [
    {
     "data": {
      "text/html": [
       "<div>\n",
       "<style scoped>\n",
       "    .dataframe tbody tr th:only-of-type {\n",
       "        vertical-align: middle;\n",
       "    }\n",
       "\n",
       "    .dataframe tbody tr th {\n",
       "        vertical-align: top;\n",
       "    }\n",
       "\n",
       "    .dataframe thead th {\n",
       "        text-align: right;\n",
       "    }\n",
       "</style>\n",
       "<table border=\"1\" class=\"dataframe\">\n",
       "  <thead>\n",
       "    <tr style=\"text-align: right;\">\n",
       "      <th></th>\n",
       "      <th>state</th>\n",
       "      <th>packs</th>\n",
       "      <th>price</th>\n",
       "      <th>income</th>\n",
       "      <th>Total price</th>\n",
       "    </tr>\n",
       "  </thead>\n",
       "  <tbody>\n",
       "    <tr>\n",
       "      <th>14</th>\n",
       "      <td>Kentucky</td>\n",
       "      <td>5.37906</td>\n",
       "      <td>0.03260</td>\n",
       "      <td>4.64937</td>\n",
       "      <td>0.175357</td>\n",
       "    </tr>\n",
       "    <tr>\n",
       "      <th>11</th>\n",
       "      <td>Indiana</td>\n",
       "      <td>5.11129</td>\n",
       "      <td>0.08992</td>\n",
       "      <td>4.72916</td>\n",
       "      <td>0.459607</td>\n",
       "    </tr>\n",
       "    <tr>\n",
       "      <th>26</th>\n",
       "      <td>New Hampshire</td>\n",
       "      <td>5.10990</td>\n",
       "      <td>0.15852</td>\n",
       "      <td>5.00319</td>\n",
       "      <td>0.810021</td>\n",
       "    </tr>\n",
       "    <tr>\n",
       "      <th>2</th>\n",
       "      <td>Arkansas</td>\n",
       "      <td>5.10709</td>\n",
       "      <td>0.23406</td>\n",
       "      <td>4.59435</td>\n",
       "      <td>1.195365</td>\n",
       "    </tr>\n",
       "    <tr>\n",
       "      <th>40</th>\n",
       "      <td>Vermont</td>\n",
       "      <td>5.08799</td>\n",
       "      <td>0.18018</td>\n",
       "      <td>4.77578</td>\n",
       "      <td>0.916754</td>\n",
       "    </tr>\n",
       "    <tr>\n",
       "      <th>35</th>\n",
       "      <td>South Carolina</td>\n",
       "      <td>5.07801</td>\n",
       "      <td>0.07944</td>\n",
       "      <td>4.62549</td>\n",
       "      <td>0.403397</td>\n",
       "    </tr>\n",
       "    <tr>\n",
       "      <th>22</th>\n",
       "      <td>Missouri</td>\n",
       "      <td>5.06430</td>\n",
       "      <td>0.08731</td>\n",
       "      <td>4.78189</td>\n",
       "      <td>0.442164</td>\n",
       "    </tr>\n",
       "    <tr>\n",
       "      <th>37</th>\n",
       "      <td>Tennessee</td>\n",
       "      <td>5.04939</td>\n",
       "      <td>0.15547</td>\n",
       "      <td>4.72525</td>\n",
       "      <td>0.785029</td>\n",
       "    </tr>\n",
       "    <tr>\n",
       "      <th>5</th>\n",
       "      <td>Delaware</td>\n",
       "      <td>5.04705</td>\n",
       "      <td>0.21929</td>\n",
       "      <td>4.87087</td>\n",
       "      <td>1.106768</td>\n",
       "    </tr>\n",
       "    <tr>\n",
       "      <th>45</th>\n",
       "      <td>Wyoming</td>\n",
       "      <td>5.00087</td>\n",
       "      <td>0.10029</td>\n",
       "      <td>4.71169</td>\n",
       "      <td>0.501537</td>\n",
       "    </tr>\n",
       "  </tbody>\n",
       "</table>\n",
       "</div>"
      ],
      "text/plain": [
       "             state    packs    price   income  Total price\n",
       "14        Kentucky  5.37906  0.03260  4.64937     0.175357\n",
       "11         Indiana  5.11129  0.08992  4.72916     0.459607\n",
       "26   New Hampshire  5.10990  0.15852  5.00319     0.810021\n",
       "2         Arkansas  5.10709  0.23406  4.59435     1.195365\n",
       "40         Vermont  5.08799  0.18018  4.77578     0.916754\n",
       "35  South Carolina  5.07801  0.07944  4.62549     0.403397\n",
       "22        Missouri  5.06430  0.08731  4.78189     0.442164\n",
       "37       Tennessee  5.04939  0.15547  4.72525     0.785029\n",
       "5         Delaware  5.04705  0.21929  4.87087     1.106768\n",
       "45         Wyoming  5.00087  0.10029  4.71169     0.501537"
      ]
     },
     "execution_count": 28,
     "metadata": {},
     "output_type": "execute_result"
    }
   ],
   "source": [
    "consumption_top10"
   ]
  },
  {
   "cell_type": "code",
   "execution_count": 29,
   "id": "f7861127",
   "metadata": {
    "ExecuteTime": {
     "end_time": "2023-07-16T12:41:09.070270Z",
     "start_time": "2023-07-16T12:41:08.234747Z"
    }
   },
   "outputs": [
    {
     "data": {
      "image/png": "[encoded data removed]",
      "text/plain": [
       "<Figure size 1000x600 with 1 Axes>"
      ]
     },
     "metadata": {},
     "output_type": "display_data"
    }
   ],
   "source": [
    "# Create a scatterplot to show relationship between per capital income and cigarettes consumption\n",
    "plt.figure(figsize=(10, 6))\n",
    "ax = sns.scatterplot(x=consumption_top10['income'], y=consumption_top10['packs'], hue=consumption_top10['state'])\n",
    "\n",
    "# Add a title\n",
    "plt.title(\"Real disposable income (per capita) in each state vs Cigarette consumption (in packs) per person of smoking age (> 16 years)\")\n",
    "\n",
    "# Add labels to the x-axis\n",
    "plt.xlabel(\"Income\")\n",
    "\n",
    "# Add labels to the y-axis\n",
    "plt.ylabel(\"Packs\")\n",
    "\n",
    "# Show the plot\n",
    "plt.show()"
   ]
  },
  {
   "cell_type": "code",
   "execution_count": 30,
   "id": "e017c043",
   "metadata": {
    "ExecuteTime": {
     "end_time": "2023-07-16T12:41:09.669924Z",
     "start_time": "2023-07-16T12:41:09.081263Z"
    }
   },
   "outputs": [
    {
     "data": {
      "image/png": "[encoded data removed]",
      "text/plain": [
       "<Figure size 800x400 with 1 Axes>"
      ]
     },
     "metadata": {},
     "output_type": "display_data"
    }
   ],
   "source": [
    "# Importing library for visualization\n",
    "import matplotlib.pyplot as plot\n",
    "\n",
    "# Creating group bar chart of the dataframe columns\n",
    "income_top10.plot(x=\"state\", y=[\"packs\", \"price\", \"income\", \"Total price\"], kind=\"bar\",figsize=(8,4))\n",
    "\n",
    "# Display the plot\n",
    "plot.show()"
   ]
  },
  {
   "cell_type": "code",
   "execution_count": 31,
   "id": "53d058a3",
   "metadata": {
    "ExecuteTime": {
     "end_time": "2023-07-16T12:41:09.701906Z",
     "start_time": "2023-07-16T12:41:09.674921Z"
    }
   },
   "outputs": [],
   "source": [
    "# sorting and filtering 10 lowest states in price\n",
    "price_bottom10 = df.sort_values(by=['price'],ascending=False).tail(10)"
   ]
  },
  {
   "cell_type": "code",
   "execution_count": 32,
   "id": "891d9587",
   "metadata": {
    "ExecuteTime": {
     "end_time": "2023-07-16T12:41:09.748900Z",
     "start_time": "2023-07-16T12:41:09.707904Z"
    }
   },
   "outputs": [
    {
     "data": {
      "text/html": [
       "<div>\n",
       "<style scoped>\n",
       "    .dataframe tbody tr th:only-of-type {\n",
       "        vertical-align: middle;\n",
       "    }\n",
       "\n",
       "    .dataframe tbody tr th {\n",
       "        vertical-align: top;\n",
       "    }\n",
       "\n",
       "    .dataframe thead th {\n",
       "        text-align: right;\n",
       "    }\n",
       "</style>\n",
       "<table border=\"1\" class=\"dataframe\">\n",
       "  <thead>\n",
       "    <tr style=\"text-align: right;\">\n",
       "      <th></th>\n",
       "      <th>state</th>\n",
       "      <th>packs</th>\n",
       "      <th>price</th>\n",
       "      <th>income</th>\n",
       "      <th>Total price</th>\n",
       "    </tr>\n",
       "  </thead>\n",
       "  <tbody>\n",
       "    <tr>\n",
       "      <th>31</th>\n",
       "      <td>Ohio</td>\n",
       "      <td>4.97952</td>\n",
       "      <td>0.12889</td>\n",
       "      <td>4.75875</td>\n",
       "      <td>0.641810</td>\n",
       "    </tr>\n",
       "    <tr>\n",
       "      <th>8</th>\n",
       "      <td>Georgia</td>\n",
       "      <td>4.97974</td>\n",
       "      <td>0.12826</td>\n",
       "      <td>4.73299</td>\n",
       "      <td>0.638701</td>\n",
       "    </tr>\n",
       "    <tr>\n",
       "      <th>17</th>\n",
       "      <td>Maryland</td>\n",
       "      <td>4.77751</td>\n",
       "      <td>0.12575</td>\n",
       "      <td>4.94692</td>\n",
       "      <td>0.600772</td>\n",
       "    </tr>\n",
       "    <tr>\n",
       "      <th>43</th>\n",
       "      <td>West Virginia</td>\n",
       "      <td>4.82454</td>\n",
       "      <td>0.12008</td>\n",
       "      <td>4.56859</td>\n",
       "      <td>0.579331</td>\n",
       "    </tr>\n",
       "    <tr>\n",
       "      <th>41</th>\n",
       "      <td>Virginia</td>\n",
       "      <td>4.93065</td>\n",
       "      <td>0.11818</td>\n",
       "      <td>4.85490</td>\n",
       "      <td>0.582704</td>\n",
       "    </tr>\n",
       "    <tr>\n",
       "      <th>45</th>\n",
       "      <td>Wyoming</td>\n",
       "      <td>5.00087</td>\n",
       "      <td>0.10029</td>\n",
       "      <td>4.71169</td>\n",
       "      <td>0.501537</td>\n",
       "    </tr>\n",
       "    <tr>\n",
       "      <th>11</th>\n",
       "      <td>Indiana</td>\n",
       "      <td>5.11129</td>\n",
       "      <td>0.08992</td>\n",
       "      <td>4.72916</td>\n",
       "      <td>0.459607</td>\n",
       "    </tr>\n",
       "    <tr>\n",
       "      <th>22</th>\n",
       "      <td>Missouri</td>\n",
       "      <td>5.06430</td>\n",
       "      <td>0.08731</td>\n",
       "      <td>4.78189</td>\n",
       "      <td>0.442164</td>\n",
       "    </tr>\n",
       "    <tr>\n",
       "      <th>35</th>\n",
       "      <td>South Carolina</td>\n",
       "      <td>5.07801</td>\n",
       "      <td>0.07944</td>\n",
       "      <td>4.62549</td>\n",
       "      <td>0.403397</td>\n",
       "    </tr>\n",
       "    <tr>\n",
       "      <th>14</th>\n",
       "      <td>Kentucky</td>\n",
       "      <td>5.37906</td>\n",
       "      <td>0.03260</td>\n",
       "      <td>4.64937</td>\n",
       "      <td>0.175357</td>\n",
       "    </tr>\n",
       "  </tbody>\n",
       "</table>\n",
       "</div>"
      ],
      "text/plain": [
       "             state    packs    price   income  Total price\n",
       "31            Ohio  4.97952  0.12889  4.75875     0.641810\n",
       "8          Georgia  4.97974  0.12826  4.73299     0.638701\n",
       "17        Maryland  4.77751  0.12575  4.94692     0.600772\n",
       "43   West Virginia  4.82454  0.12008  4.56859     0.579331\n",
       "41        Virginia  4.93065  0.11818  4.85490     0.582704\n",
       "45         Wyoming  5.00087  0.10029  4.71169     0.501537\n",
       "11         Indiana  5.11129  0.08992  4.72916     0.459607\n",
       "22        Missouri  5.06430  0.08731  4.78189     0.442164\n",
       "35  South Carolina  5.07801  0.07944  4.62549     0.403397\n",
       "14        Kentucky  5.37906  0.03260  4.64937     0.175357"
      ]
     },
     "execution_count": 32,
     "metadata": {},
     "output_type": "execute_result"
    }
   ],
   "source": [
    "price_bottom10"
   ]
  },
  {
   "cell_type": "code",
   "execution_count": 33,
   "id": "4a912f4d",
   "metadata": {
    "ExecuteTime": {
     "end_time": "2023-07-16T12:41:10.506448Z",
     "start_time": "2023-07-16T12:41:09.753877Z"
    }
   },
   "outputs": [
    {
     "data": {
      "image/png": "[encoded data removed]",
      "text/plain": [
       "<Figure size 1000x600 with 1 Axes>"
      ]
     },
     "metadata": {},
     "output_type": "display_data"
    }
   ],
   "source": [
    "# Create a scatterplot of price vs packs(cigarettes consumption)\n",
    "plt.figure(figsize=(10, 6))\n",
    "ax = sns.scatterplot(x=price_bottom10['price'], y=price_bottom10['packs'], hue=price_bottom10['state'])\n",
    "\n",
    "# Add a title\n",
    "plt.title(\"10 lowest price in state vs Cigarette consumption (in packs) per person of smoking age (> 16 years)\")\n",
    "\n",
    "# Add labels to the x-axis\n",
    "plt.xlabel(\"Price\")\n",
    "\n",
    "# Add labels to the y-axis\n",
    "plt.ylabel(\"Packs\")\n",
    "\n",
    "# Show the plot\n",
    "plt.show()"
   ]
  },
  {
   "cell_type": "code",
   "execution_count": 34,
   "id": "0cd8243e",
   "metadata": {
    "ExecuteTime": {
     "end_time": "2023-07-16T12:41:10.537428Z",
     "start_time": "2023-07-16T12:41:10.512442Z"
    }
   },
   "outputs": [],
   "source": [
    "# Correlation between columns to show relationship\n",
    "corr = df.corr()"
   ]
  },
  {
   "cell_type": "code",
   "execution_count": 35,
   "id": "58eccbd1",
   "metadata": {
    "ExecuteTime": {
     "end_time": "2023-07-16T12:41:10.584401Z",
     "start_time": "2023-07-16T12:41:10.544431Z"
    }
   },
   "outputs": [
    {
     "data": {
      "text/html": [
       "<div>\n",
       "<style scoped>\n",
       "    .dataframe tbody tr th:only-of-type {\n",
       "        vertical-align: middle;\n",
       "    }\n",
       "\n",
       "    .dataframe tbody tr th {\n",
       "        vertical-align: top;\n",
       "    }\n",
       "\n",
       "    .dataframe thead th {\n",
       "        text-align: right;\n",
       "    }\n",
       "</style>\n",
       "<table border=\"1\" class=\"dataframe\">\n",
       "  <thead>\n",
       "    <tr style=\"text-align: right;\">\n",
       "      <th></th>\n",
       "      <th>packs</th>\n",
       "      <th>price</th>\n",
       "      <th>income</th>\n",
       "      <th>Total price</th>\n",
       "    </tr>\n",
       "  </thead>\n",
       "  <tbody>\n",
       "    <tr>\n",
       "      <th>packs</th>\n",
       "      <td>1.000000</td>\n",
       "      <td>-0.514181</td>\n",
       "      <td>-0.168673</td>\n",
       "      <td>-0.446784</td>\n",
       "    </tr>\n",
       "    <tr>\n",
       "      <th>price</th>\n",
       "      <td>-0.514181</td>\n",
       "      <td>1.000000</td>\n",
       "      <td>0.497864</td>\n",
       "      <td>0.996004</td>\n",
       "    </tr>\n",
       "    <tr>\n",
       "      <th>income</th>\n",
       "      <td>-0.168673</td>\n",
       "      <td>0.497864</td>\n",
       "      <td>1.000000</td>\n",
       "      <td>0.494811</td>\n",
       "    </tr>\n",
       "    <tr>\n",
       "      <th>Total price</th>\n",
       "      <td>-0.446784</td>\n",
       "      <td>0.996004</td>\n",
       "      <td>0.494811</td>\n",
       "      <td>1.000000</td>\n",
       "    </tr>\n",
       "  </tbody>\n",
       "</table>\n",
       "</div>"
      ],
      "text/plain": [
       "                packs     price    income  Total price\n",
       "packs        1.000000 -0.514181 -0.168673    -0.446784\n",
       "price       -0.514181  1.000000  0.497864     0.996004\n",
       "income      -0.168673  0.497864  1.000000     0.494811\n",
       "Total price -0.446784  0.996004  0.494811     1.000000"
      ]
     },
     "execution_count": 35,
     "metadata": {},
     "output_type": "execute_result"
    }
   ],
   "source": [
    "corr"
   ]
  },
  {
   "cell_type": "code",
   "execution_count": 36,
   "id": "806dfbbb",
   "metadata": {
    "ExecuteTime": {
     "end_time": "2023-07-16T12:41:11.104124Z",
     "start_time": "2023-07-16T12:41:10.596395Z"
    }
   },
   "outputs": [
    {
     "data": {
      "image/png": "[encoded data removed]",
      "text/plain": [
       "<Figure size 600x400 with 2 Axes>"
      ]
     },
     "metadata": {},
     "output_type": "display_data"
    }
   ],
   "source": [
    "# Create a correlation plot\n",
    "plt.figure(figsize=(6, 4))\n",
    "sns.heatmap(corr, cmap=\"Blues\", annot=True)\n",
    "plt.title(\"Correlation Matrix\")\n",
    "plt.show()"
   ]
  },
  {
   "cell_type": "code",
   "execution_count": null,
   "id": "8239d7b5",
   "metadata": {},
   "outputs": [],
   "source": []
  }
 ],
 "metadata": {
  "kernelspec": {
   "display_name": "Python 3 (ipykernel)",
   "language": "python",
   "name": "python3"
  },
  "language_info": {
   "codemirror_mode": {
    "name": "ipython",
    "version": 3
   },
   "file_extension": ".py",
   "mimetype": "text/x-python",
   "name": "python",
   "nbconvert_exporter": "python",
   "pygments_lexer": "ipython3",
   "version": "3.9.13"
  },
  "toc": {
   "base_numbering": 1,
   "nav_menu": {},
   "number_sections": true,
   "sideBar": true,
   "skip_h1_title": false,
   "title_cell": "Table of Contents",
   "title_sidebar": "Contents",
   "toc_cell": false,
   "toc_position": {},
   "toc_section_display": true,
   "toc_window_display": false
  },
  "varInspector": {
   "cols": {
    "lenName": 16,
    "lenType": 16,
    "lenVar": 40
   },
   "kernels_config": {
    "python": {
     "delete_cmd_postfix": "",
     "delete_cmd_prefix": "del ",
     "library": "var_list.py",
     "varRefreshCmd": "print(var_dic_list())"
    },
    "r": {
     "delete_cmd_postfix": ") ",
     "delete_cmd_prefix": "rm(",
     "library": "var_list.r",
     "varRefreshCmd": "cat(var_dic_list()) "
    }
   },
   "types_to_exclude": [
    "module",
    "function",
    "builtin_function_or_method",
    "instance",
    "_Feature"
   ],
   "window_display": false
  }
 },
 "nbformat": 4,
 "nbformat_minor": 5
}
